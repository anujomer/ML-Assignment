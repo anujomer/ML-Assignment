{
 "cells": [
  {
   "cell_type": "code",
   "execution_count": 1,
   "metadata": {},
   "outputs": [],
   "source": [
    "import numpy as np\n",
    "import pandas as pd\n",
    "from sklearn.naive_bayes import GaussianNB\n",
    "from sklearn import model_selection\n",
    "from sklearn.model_selection import train_test_split\n",
    "from sklearn.metrics import classification_report\n",
    "from sklearn.metrics import confusion_matrix\n",
    "from sklearn.metrics import accuracy_score\n"
   ]
  },
  {
   "cell_type": "code",
   "execution_count": 2,
   "metadata": {},
   "outputs": [],
   "source": [
    "df=pd.read_csv('F:/Semester VI/ML & Data Mining/Lab work/Iris.csv')"
   ]
  },
  {
   "cell_type": "code",
   "execution_count": 3,
   "metadata": {},
   "outputs": [],
   "source": [
    "df.Species.replace(['Iris-setosa', 'Iris-versicolor', 'Iris-virginica'], [1, 2, 3], inplace=True)\n"
   ]
  },
  {
   "cell_type": "code",
   "execution_count": 4,
   "metadata": {},
   "outputs": [],
   "source": [
    "clf = GaussianNB()"
   ]
  },
  {
   "cell_type": "code",
   "execution_count": 6,
   "metadata": {},
   "outputs": [
    {
     "name": "stdout",
     "output_type": "stream",
     "text": [
      "      Id  SepalLengthCm  SepalWidthCm  PetalLengthCm  PetalWidthCm  Species\n",
      "0      1            5.1           3.5            1.4           0.2        1\n",
      "1      2            4.9           3.0            1.4           0.2        1\n",
      "2      3            4.7           3.2            1.3           0.2        1\n",
      "3      4            4.6           3.1            1.5           0.2        1\n",
      "4      5            5.0           3.6            1.4           0.2        1\n",
      "5      6            5.4           3.9            1.7           0.4        1\n",
      "6      7            4.6           3.4            1.4           0.3        1\n",
      "7      8            5.0           3.4            1.5           0.2        1\n",
      "8      9            4.4           2.9            1.4           0.2        1\n",
      "9     10            4.9           3.1            1.5           0.1        1\n",
      "10    11            5.4           3.7            1.5           0.2        1\n",
      "11    12            4.8           3.4            1.6           0.2        1\n",
      "12    13            4.8           3.0            1.4           0.1        1\n",
      "13    14            4.3           3.0            1.1           0.1        1\n",
      "14    15            5.8           4.0            1.2           0.2        1\n",
      "15    16            5.7           4.4            1.5           0.4        1\n",
      "16    17            5.4           3.9            1.3           0.4        1\n",
      "17    18            5.1           3.5            1.4           0.3        1\n",
      "18    19            5.7           3.8            1.7           0.3        1\n",
      "19    20            5.1           3.8            1.5           0.3        1\n",
      "20    21            5.4           3.4            1.7           0.2        1\n",
      "21    22            5.1           3.7            1.5           0.4        1\n",
      "22    23            4.6           3.6            1.0           0.2        1\n",
      "23    24            5.1           3.3            1.7           0.5        1\n",
      "24    25            4.8           3.4            1.9           0.2        1\n",
      "25    26            5.0           3.0            1.6           0.2        1\n",
      "26    27            5.0           3.4            1.6           0.4        1\n",
      "27    28            5.2           3.5            1.5           0.2        1\n",
      "28    29            5.2           3.4            1.4           0.2        1\n",
      "29    30            4.7           3.2            1.6           0.2        1\n",
      "..   ...            ...           ...            ...           ...      ...\n",
      "120  121            6.9           3.2            5.7           2.3        3\n",
      "121  122            5.6           2.8            4.9           2.0        3\n",
      "122  123            7.7           2.8            6.7           2.0        3\n",
      "123  124            6.3           2.7            4.9           1.8        3\n",
      "124  125            6.7           3.3            5.7           2.1        3\n",
      "125  126            7.2           3.2            6.0           1.8        3\n",
      "126  127            6.2           2.8            4.8           1.8        3\n",
      "127  128            6.1           3.0            4.9           1.8        3\n",
      "128  129            6.4           2.8            5.6           2.1        3\n",
      "129  130            7.2           3.0            5.8           1.6        3\n",
      "130  131            7.4           2.8            6.1           1.9        3\n",
      "131  132            7.9           3.8            6.4           2.0        3\n",
      "132  133            6.4           2.8            5.6           2.2        3\n",
      "133  134            6.3           2.8            5.1           1.5        3\n",
      "134  135            6.1           2.6            5.6           1.4        3\n",
      "135  136            7.7           3.0            6.1           2.3        3\n",
      "136  137            6.3           3.4            5.6           2.4        3\n",
      "137  138            6.4           3.1            5.5           1.8        3\n",
      "138  139            6.0           3.0            4.8           1.8        3\n",
      "139  140            6.9           3.1            5.4           2.1        3\n",
      "140  141            6.7           3.1            5.6           2.4        3\n",
      "141  142            6.9           3.1            5.1           2.3        3\n",
      "142  143            5.8           2.7            5.1           1.9        3\n",
      "143  144            6.8           3.2            5.9           2.3        3\n",
      "144  145            6.7           3.3            5.7           2.5        3\n",
      "145  146            6.7           3.0            5.2           2.3        3\n",
      "146  147            6.3           2.5            5.0           1.9        3\n",
      "147  148            6.5           3.0            5.2           2.0        3\n",
      "148  149            6.2           3.4            5.4           2.3        3\n",
      "149  150            5.9           3.0            5.1           1.8        3\n",
      "\n",
      "[150 rows x 6 columns]\n"
     ]
    }
   ],
   "source": [
    "print(df)"
   ]
  },
  {
   "cell_type": "code",
   "execution_count": 7,
   "metadata": {},
   "outputs": [],
   "source": [
    "array = df.values\n",
    "X = array[:,1:5]\n",
    "Y = array[:,5]"
   ]
  },
  {
   "cell_type": "code",
   "execution_count": 8,
   "metadata": {},
   "outputs": [],
   "source": [
    "validation_size = 0.33"
   ]
  },
  {
   "cell_type": "code",
   "execution_count": 9,
   "metadata": {},
   "outputs": [],
   "source": [
    "seed = 7\n",
    "X_train, X_validation, Y_train, Y_validation = model_selection.train_test_split(X, Y, test_size=validation_size, random_state=seed)"
   ]
  },
  {
   "cell_type": "code",
   "execution_count": 10,
   "metadata": {},
   "outputs": [],
   "source": [
    "scoring = 'accuracy'"
   ]
  },
  {
   "cell_type": "code",
   "execution_count": 11,
   "metadata": {},
   "outputs": [
    {
     "data": {
      "text/plain": [
       "GaussianNB(priors=None, var_smoothing=1e-09)"
      ]
     },
     "execution_count": 11,
     "metadata": {},
     "output_type": "execute_result"
    }
   ],
   "source": [
    "clf.fit(X_train, Y_train) "
   ]
  },
  {
   "cell_type": "code",
   "execution_count": 12,
   "metadata": {},
   "outputs": [],
   "source": [
    "pred_clf = clf.predict(X_validation)"
   ]
  },
  {
   "cell_type": "code",
   "execution_count": 13,
   "metadata": {},
   "outputs": [],
   "source": [
    "prob_pos_clf = clf.predict_proba(X_validation)[:, 1]\n"
   ]
  },
  {
   "cell_type": "code",
   "execution_count": 14,
   "metadata": {
    "scrolled": true
   },
   "outputs": [
    {
     "name": "stdout",
     "output_type": "stream",
     "text": [
      "   SepalLengthCm  SepalWidthCm  PetalLengthCm  PetalWidthCm  Species  \\\n",
      "0            5.4           3.9            1.7           0.4        1   \n",
      "1            4.9           3.1            1.5           0.1        1   \n",
      "2            4.9           3.1            1.5           0.1        1   \n",
      "3            4.9           3.1            1.5           0.1        1   \n",
      "4            4.8           3.4            1.6           0.2        1   \n",
      "5            5.1           3.5            1.4           0.3        1   \n",
      "6            4.6           3.6            1.0           0.2        1   \n",
      "7            5.2           3.4            1.4           0.2        1   \n",
      "8            4.7           3.2            1.6           0.2        1   \n",
      "9            5.2           4.1            1.5           0.1        1   \n",
      "\n",
      "   Prediction  \n",
      "0         1.0  \n",
      "1         1.0  \n",
      "2         1.0  \n",
      "3         1.0  \n",
      "4         1.0  \n",
      "5         1.0  \n",
      "6         1.0  \n",
      "7         1.0  \n",
      "8         1.0  \n",
      "9         1.0  \n",
      "\n",
      "\n",
      "NB accuracy: 0.970000 (0.045826)\n"
     ]
    }
   ],
   "source": [
    "pred_clf_df = pd.DataFrame(pred_clf.reshape(50,1))\n",
    "#Column renaming to indicate the predictions\n",
    "pred_clf_df.rename(columns={0:'Prediction'}, inplace=True)\n",
    "\n",
    "#reshaping the test dataset\n",
    "X_validation_df = pd.DataFrame(X_validation.reshape(50,4))\n",
    "\n",
    "#concatenating the two pandas dataframes over the columns to create a prediction dataset\n",
    "pred_outcome = pd.concat([X_validation_df, pred_clf_df], axis=1, join_axes=[X_validation_df.index])\n",
    "\n",
    "pred_outcome.rename(columns = {0:'SepalLengthCm', 1:'SepalWidthCm', 2:'PetalLengthCm', 3:'PetalWidthCm'}, inplace=True)\n",
    "\n",
    "del df['Id']\n",
    "\n",
    "#merging the prediction with original dataset\n",
    "pred_comp = pd.merge(df,pred_outcome, on=['SepalLengthCm','SepalWidthCm','PetalLengthCm','PetalWidthCm'])\n",
    "\n",
    "#print top 10 lines of the final predictions\n",
    "print((pred_comp).head(10))\n",
    "print (\"\\n\")\n",
    "\n",
    "#Save the file to csv\n",
    "pred_comp.to_csv('Predictions.csv', sep=',')\n",
    "\n",
    "#Save the file to Excel\n",
    "from pandas import ExcelWriter\n",
    "\n",
    "writer = ExcelWriter('IrisPredictions.xlsx')\n",
    "pred_comp.to_excel(writer,'Sheet1')\n",
    "writer.save()\n",
    "\n",
    "\n",
    "#Model Performance\n",
    "#setting performance parameters\n",
    "kfold = model_selection.KFold(n_splits=10, random_state=seed)\n",
    "\n",
    "#calling the cross validation function\n",
    "cv_results = model_selection.cross_val_score(GaussianNB(), X_train, Y_train, cv=kfold, scoring=scoring)\n",
    "\n",
    "#displaying the mean and standard deviation of the prediction\n",
    "msg = \"%s: %f (%f)\" % ('NB accuracy', cv_results.mean(), cv_results.std())\n",
    "print(msg)"
   ]
  },
  {
   "cell_type": "code",
   "execution_count": null,
   "metadata": {},
   "outputs": [],
   "source": []
  }
 ],
 "metadata": {
  "kernelspec": {
   "display_name": "Python 3",
   "language": "python",
   "name": "python3"
  },
  "language_info": {
   "codemirror_mode": {
    "name": "ipython",
    "version": 3
   },
   "file_extension": ".py",
   "mimetype": "text/x-python",
   "name": "python",
   "nbconvert_exporter": "python",
   "pygments_lexer": "ipython3",
   "version": "3.7.1"
  }
 },
 "nbformat": 4,
 "nbformat_minor": 2
}
